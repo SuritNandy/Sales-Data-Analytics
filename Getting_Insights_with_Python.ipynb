{
 "cells": [
  {
   "cell_type": "markdown",
   "metadata": {},
   "source": [
    "<p><b> Reading the dataset from the File Path </b></p>"
   ]
  },
  {
   "cell_type": "code",
   "execution_count": 1,
   "metadata": {},
   "outputs": [
    {
     "name": "stdout",
     "output_type": "stream",
     "text": [
      "imported necessary modules\n",
      "imported necessary modules\n"
     ]
    }
   ],
   "source": [
    "import matplotlib as mpl\n",
    "import matplotlib.pyplot as plt\n",
    "import seaborn as sns\n",
    "from sklearn.model_selection import train_test_split\n",
    "from sklearn.metrics import *\n",
    "from sklearn.linear_model import LogisticRegression\n",
    "from sklearn.linear_model import LinearRegression\n",
    "from sklearn.ensemble import RandomForestClassifier\n",
    "from sklearn.tree import DecisionTreeClassifier\n",
    "from sklearn.metrics import accuracy_score, classification_report\n",
    "import numpy as np # linear algebra\n",
    "import pandas as pd # data processing, CSV file I/O (e.g. pd.read_csv)\n",
    "\n",
    "print(\"imported necessary modules\")"
   ]
  },
  {
   "cell_type": "markdown",
   "metadata": {},
   "source": [
    "<p><b>Glace at the DataSet</b></p>"
   ]
  },
  {
   "cell_type": "code",
   "execution_count": null,
   "metadata": {},
   "outputs": [],
   "source": [
    "df=pd.read_csv('sales_data_sample.csv',index_col='ORDERNUMBER',encoding='Latin-1')\n",
    "df.head()"
   ]
  },
  {
   "cell_type": "code",
   "execution_count": null,
   "metadata": {},
   "outputs": [],
   "source": [
    "#counting missing values in the column\n",
    "missing_data = df.isnull()\n",
    "for column in missing_data.columns.values.tolist():\n",
    "    print(column)\n",
    "    print (missing_data[column].value_counts())\n",
    "    print(\"\")  "
   ]
  },
  {
   "cell_type": "markdown",
   "metadata": {},
   "source": [
    "<p><b>Display the yearly sales</b></p>"
   ]
  },
  {
   "cell_type": "code",
   "execution_count": null,
   "metadata": {},
   "outputs": [],
   "source": [
    "yearly_sales=df.groupby(['YEAR_ID'])['SALES'].sum().reset_index()\n",
    "print(yearly_sales)\n",
    "# Plotting\n",
    "\n",
    "plt.figure(figsize=(10, 6))  # Setting the figure size\n",
    "\n",
    "plt.bar(yearly_sales['YEAR_ID'], yearly_sales['SALES'], color='skyblue')  # Creating the bar chart\n",
    "plt.xlabel('Year')  # Labeling the x-axis\n",
    "plt.ylabel('Total Sales')  # Labeling the y-axis\n",
    "plt.title('Yearly Sales')  # Adding title to the plot\n",
    "\n",
    "plt.show()  # Displaying the plot"
   ]
  },
  {
   "cell_type": "markdown",
   "metadata": {},
   "source": [
    "<p><b>Display the monthly sales</b></p>"
   ]
  },
  {
   "cell_type": "code",
   "execution_count": null,
   "metadata": {},
   "outputs": [],
   "source": [
    "monthly_sales=df.groupby(['MONTH_ID'])['SALES'].sum().reset_index()\n",
    "print(monthly_sales)\n",
    "# Plotting\n",
    "plt.figure(figsize=(10, 6))  # Setting the figure size\n",
    "\n",
    "plt.bar(monthly_sales['MONTH_ID'], monthly_sales['SALES'], color='skyblue')  # Creating the bar chart\n",
    "plt.xlabel('Month')  # Labeling the x-axis\n",
    "plt.ylabel('Total Sales')  # Labeling the y-axis\n",
    "plt.title('Monthly Sales')  # Adding title to the plot\n",
    "# Customize the tick labels for x-axis to display month names\n",
    "plt.xticks(monthly_sales['MONTH_ID'], ['Jan', 'Feb', 'Mar', 'Apr', 'May', 'Jun', 'Jul', 'Aug', 'Sep', 'Oct', 'Nov', 'Dec'])\n",
    "\n",
    "plt.show()  # Displaying the plot"
   ]
  },
  {
   "cell_type": "markdown",
   "metadata": {},
   "source": [
    "<p><b>Display the quarterly sales</b></p>"
   ]
  },
  {
   "cell_type": "code",
   "execution_count": null,
   "metadata": {},
   "outputs": [],
   "source": [
    "qtrly_sales=df.groupby(['QTR_ID'])['SALES'].sum().reset_index()\n",
    "print(qtrly_sales)\n",
    "\n",
    "# Plotting\n",
    "plt.figure(figsize=(10, 6))  # Setting the figure size\n",
    "\n",
    "plt.bar(qtrly_sales['QTR_ID'], qtrly_sales['SALES'], color='skyblue')  # Creating the bar chart\n",
    "plt.xlabel('Quarter')  # Labeling the x-axis\n",
    "plt.ylabel('Total Sales')  # Labeling the y-axis\n",
    "plt.title('Quarterly Sales')  # Adding title to the plot\n",
    "# Customize the tick labels for x-axis to display month names\n",
    "plt.xticks(qtrly_sales['QTR_ID'], ['QTR1', 'QTR2', 'QTR3', 'QTR4'])\n",
    "\n",
    "plt.show()  # Displaying the plot"
   ]
  },
  {
   "cell_type": "markdown",
   "metadata": {},
   "source": [
    "<p><b>Display the yearly quantity ordered</b></p>"
   ]
  },
  {
   "cell_type": "code",
   "execution_count": null,
   "metadata": {},
   "outputs": [],
   "source": [
    "yearly_qntyOrdered=df.groupby(['YEAR_ID'])['QUANTITYORDERED'].sum().reset_index()\n",
    "print(yearly_qntyOrdered)\n",
    "# Plotting\n",
    "\n",
    "plt.figure(figsize=(10, 6))  # Setting the figure size\n",
    "\n",
    "plt.bar(yearly_qntyOrdered['YEAR_ID'], yearly_qntyOrdered['QUANTITYORDERED'], color='skyblue')  # Creating the bar chart\n",
    "plt.xlabel('Year')  # Labeling the x-axis\n",
    "plt.ylabel('Total QTY ORDERED')  # Labeling the y-axis\n",
    "plt.title('Yearly QUANTITY ORDERED')  # Adding title to the plot\n",
    "\n",
    "plt.show()  # Displaying the plot"
   ]
  },
  {
   "cell_type": "markdown",
   "metadata": {},
   "source": [
    "<p><b>Display the monthly quantity ordered</b></p>"
   ]
  },
  {
   "cell_type": "code",
   "execution_count": null,
   "metadata": {},
   "outputs": [],
   "source": [
    "monthly_qntyOrdered=df.groupby(['MONTH_ID'])['QUANTITYORDERED'].sum().reset_index()\n",
    "print(monthly_qntyOrdered)\n",
    "\n",
    "#Plotting\n",
    "plt.figure(figsize=(10, 6))  # Setting the figure size\n",
    "\n",
    "plt.bar(monthly_qntyOrdered['MONTH_ID'], monthly_qntyOrdered['QUANTITYORDERED'], color='skyblue')  # Creating the bar chart\n",
    "plt.xlabel('Month')  # Labeling the x-axis\n",
    "plt.ylabel('Total QTY ORDERED')  # Labeling the y-axis\n",
    "plt.title('Monthly QUANTITY ORDERED')  # Adding title to the plot\n",
    "# Customize the tick labels for x-axis to display month names\n",
    "plt.xticks(monthly_qntyOrdered['MONTH_ID'], ['Jan', 'Feb', 'Mar', 'Apr', 'May', 'Jun', 'Jul', 'Aug', 'Sep', 'Oct', 'Nov', 'Dec'])\n",
    "\n",
    "plt.show()  # Displaying the plot"
   ]
  },
  {
   "cell_type": "markdown",
   "metadata": {},
   "source": [
    "<p><b>Display the quarterly quantity ordered</b></p>"
   ]
  },
  {
   "cell_type": "code",
   "execution_count": null,
   "metadata": {},
   "outputs": [],
   "source": [
    "qtrly_qntyOrdered=df.groupby(['QTR_ID'])['QUANTITYORDERED'].sum().reset_index()\n",
    "print(qtrly_qntyOrdered)\n",
    "\n",
    "# Plotting\n",
    "plt.figure(figsize=(10, 6))  # Setting the figure size\n",
    "\n",
    "plt.bar(qtrly_qntyOrdered['QTR_ID'], qtrly_qntyOrdered['QUANTITYORDERED'], color='skyblue')  # Creating the bar chart\n",
    "plt.xlabel('Quarter')  # Labeling the x-axis\n",
    "plt.ylabel('Total QTY ORDERED')  # Labeling the y-axis\n",
    "plt.title('Quarterly QUANTITY ORDERED')  # Adding title to the plot\n",
    "# Customize the tick labels for x-axis to display month names\n",
    "plt.xticks(qtrly_qntyOrdered['QTR_ID'], ['QTR1', 'QTR2', 'QTR3', 'QTR4'])\n",
    "\n",
    "plt.show()  # Displaying the plot"
   ]
  },
  {
   "cell_type": "markdown",
   "metadata": {},
   "source": [
    "<p><b>Find the correlation between:\n",
    "yearly SALES and yearly QUANTITYORDERED\n",
    "</b></p>"
   ]
  },
  {
   "cell_type": "code",
   "execution_count": null,
   "metadata": {},
   "outputs": [],
   "source": [
    "#To find the correlation between two variables, you can use Pearson correlation coefficient, \n",
    "#which is a measure of the linear correlation between two variables. It ranges from -1 to 1.\n",
    "\n",
    "# Define function to calculate Pearson correlation coefficient\n",
    "def pearson_correlation(x, y):\n",
    "    # Calculate means\n",
    "    mean_x = np.mean(x)\n",
    "    mean_y = np.mean(y)\n",
    "    \n",
    "    # Calculate numerator\n",
    "    numerator = np.sum((x - mean_x) * (y - mean_y))\n",
    "    \n",
    "    # Calculate denominators\n",
    "    denominator_x = np.sqrt(np.sum((x - mean_x)**2))\n",
    "    denominator_y = np.sqrt(np.sum((y - mean_y)**2))\n",
    "    \n",
    "    # Calculate correlation coefficient\n",
    "    correlation_coefficient = numerator / (denominator_x * denominator_y)\n",
    "    \n",
    "    return correlation_coefficient\n",
    "\n",
    "df['QUANTITYORDERED'].astype(float)\n",
    "\n",
    "yearly_sales=df.groupby(['YEAR_ID'])['SALES'].sum().reset_index()\n",
    "yearly_qntyOrdered=df.groupby(['YEAR_ID'])['QUANTITYORDERED'].sum().reset_index()\n",
    "\n",
    "\n",
    "# Calculate correlation using the function\n",
    "yearly_correlation = pearson_correlation(yearly_sales['SALES'], yearly_qntyOrdered['QUANTITYORDERED'])\n",
    "\n",
    "print(\"Correlation between yearly sales and yearly quantity ordered:\", yearly_correlation)\n"
   ]
  },
  {
   "cell_type": "markdown",
   "metadata": {},
   "source": [
    "<p><b>Display the total number of sales year wise, group them into different status : cancelled, disputed, inprocess, on hold, shipped, resolved<b></p>"
   ]
  },
  {
   "cell_type": "code",
   "execution_count": null,
   "metadata": {},
   "outputs": [],
   "source": [
    "grouped_yearly_data = df.groupby(['YEAR_ID','STATUS'])['SALES'].sum().reset_index()\n",
    "print(grouped_yearly_data)\n",
    "# Plotting\n",
    "\n",
    "\n",
    "# Pivot the data to create a pivot table for plotting\n",
    "pivot_table = grouped_yearly_data.pivot(index='YEAR_ID', columns='STATUS', values='SALES').fillna(0)\n",
    "\n",
    "# Plotting\n",
    "pivot_table.plot(kind='bar', stacked=True)\n",
    "plt.xlabel('Year')\n",
    "plt.ylabel('Total Sales')\n",
    "plt.title('Total Sales Year-wise by Status')\n",
    "plt.legend(title='Status')\n",
    "plt.show()\n"
   ]
  },
  {
   "cell_type": "markdown",
   "metadata": {},
   "source": [
    "<p><b>Display the total number of sales month wise, group them into different status : cancelled, disputed, inprocess, on hold, shipped, resolved<b></p>"
   ]
  },
  {
   "cell_type": "code",
   "execution_count": null,
   "metadata": {},
   "outputs": [],
   "source": [
    "grouped_monthly_data = df.groupby(['MONTH_ID','STATUS'])['SALES'].sum().reset_index()\n",
    "print(grouped_monthly_data)\n",
    "# Plotting\n",
    "\n",
    "\n",
    "# Pivot the data to create a pivot table for plotting\n",
    "pivot_table = grouped_monthly_data.pivot(index='MONTH_ID', columns='STATUS', values='SALES').fillna(0)\n",
    "\n",
    "# Plotting\n",
    "pivot_table.plot(kind='bar', stacked=True)\n",
    "plt.xlabel('Month')\n",
    "plt.ylabel('Total Sales')\n",
    "plt.title('Total Sales Month-wise by Status')\n",
    "plt.legend(title='Status')\n",
    "\n",
    "# Define the positions of the ticks and the corresponding labels\n",
    "months = ['Jan', 'Feb', 'Mar', 'Apr', 'May', 'Jun', 'Jul', 'Aug', 'Sep', 'Oct', 'Nov', 'Dec']\n",
    "month_ids = sorted(df['MONTH_ID'].unique())\n",
    "positions = range(len(month_ids))\n",
    "\n",
    "# Set the ticks using plt.xticks()\n",
    "plt.xticks(positions, months)\n",
    "\n",
    "plt.show()"
   ]
  },
  {
   "cell_type": "markdown",
   "metadata": {},
   "source": [
    "<p><b>Display the total number of sales quarter wise, group them into different status : cancelled, disputed, inprocess, on hold, shipped, resolved<b></p>"
   ]
  },
  {
   "cell_type": "code",
   "execution_count": null,
   "metadata": {},
   "outputs": [],
   "source": [
    "grouped_quarterly_data = df.groupby(['QTR_ID','STATUS'])['SALES'].sum().reset_index()\n",
    "print(grouped_quarterly_data)\n",
    "# Plotting\n",
    "\n",
    "\n",
    "# Pivot the data to create a pivot table for plotting\n",
    "pivot_table = grouped_quarterly_data.pivot(index='QTR_ID', columns='STATUS', values='SALES').fillna(0)\n",
    "\n",
    "# Plotting\n",
    "pivot_table.plot(kind='bar', stacked=True)\n",
    "plt.xlabel('Quarter')\n",
    "plt.ylabel('Total Sales')\n",
    "plt.title('Total Sales Quarter-wise by Status')\n",
    "plt.legend(title='Status')\n",
    "\n",
    "# Define the positions of the ticks and the corresponding labels\n",
    "quarters = ['QTR1', 'QTR2', 'QTR3', 'QTR3']\n",
    "quarter_ids = sorted(df['QTR_ID'].unique())\n",
    "positions = range(len(quarter_ids))\n",
    "\n",
    "# Set the ticks using plt.xticks()\n",
    "plt.xticks(positions, quarters)\n",
    "\n",
    "plt.show()"
   ]
  },
  {
   "cell_type": "markdown",
   "metadata": {},
   "source": [
    "<p><b>Display the total number of sales year wise, group them into different territories : APAC, EMEA, Japan, North America</b></p>"
   ]
  },
  {
   "cell_type": "code",
   "execution_count": null,
   "metadata": {},
   "outputs": [],
   "source": [
    "territorial_yearly_data = df.groupby(['YEAR_ID','TERRITORY'])['SALES'].sum().reset_index()\n",
    "print(territorial_yearly_data)\n",
    "\n",
    "# Pivot the data to have 'YEAR_ID' as rows, 'TERRITORY' as columns, and 'SALES' as values\n",
    "heatmap_data = territorial_yearly_data.pivot(index='YEAR_ID', columns='TERRITORY', values='SALES')\n",
    "\n",
    "# Plot the heatmap\n",
    "plt.figure(figsize=(12, 8))\n",
    "sns.heatmap(heatmap_data, annot=True, fmt=\".1f\", linewidths=.5)\n",
    "plt.title('Territorial Yearly Sales Heatmap')\n",
    "plt.xlabel('Territory')\n",
    "plt.ylabel('Year')\n",
    "plt.show()"
   ]
  },
  {
   "cell_type": "markdown",
   "metadata": {},
   "source": [
    "<p><b>Display the total number of sales year wise, from different countries of the territories</b></p>"
   ]
  },
  {
   "cell_type": "code",
   "execution_count": null,
   "metadata": {},
   "outputs": [],
   "source": [
    "pip install folium"
   ]
  },
  {
   "cell_type": "code",
   "execution_count": null,
   "metadata": {},
   "outputs": [],
   "source": [
    "import folium\n",
    "from folium.features import GeoJson\n",
    "countrywise_yearly_data = df.groupby(['YEAR_ID','COUNTRY'])['SALES'].sum().reset_index()\n",
    "print(countrywise_yearly_data)\n",
    "\n",
    "# Create a Folium Map centered around the world\n",
    "m = folium.Map(location=[0, 0], zoom_start=2)\n",
    "\n",
    "# Plot Choropleth map using built-in world GeoJSON\n",
    "folium.Choropleth(\n",
    "    geo_data='https://raw.githubusercontent.com/python-visualization/folium/master/examples/data/world-countries.json',\n",
    "    name='choropleth',\n",
    "    data=pd.DataFrame(countrywise_yearly_data),\n",
    "    columns=['COUNTRY', 'SALES'],\n",
    "    key_on='feature.properties.name',\n",
    "    fill_color='RdBu',\n",
    "    fill_opacity=0.7,\n",
    "    line_opacity=0.2,\n",
    "    legend_name='Sales',\n",
    ").add_to(m)\n",
    "\n",
    "# Save map to HTML\n",
    "m.save('sales_choropleth_map.html')\n",
    "\n",
    "# Display map\n",
    "m"
   ]
  },
  {
   "cell_type": "code",
   "execution_count": null,
   "metadata": {},
   "outputs": [],
   "source": []
  }
 ],
 "metadata": {
  "kernelspec": {
   "display_name": "Python 3 (ipykernel)",
   "language": "python",
   "name": "python3"
  },
  "language_info": {
   "codemirror_mode": {
    "name": "ipython",
    "version": 3
   },
   "file_extension": ".py",
   "mimetype": "text/x-python",
   "name": "python",
   "nbconvert_exporter": "python",
   "pygments_lexer": "ipython3",
   "version": "3.10.9"
  }
 },
 "nbformat": 4,
 "nbformat_minor": 2
}
